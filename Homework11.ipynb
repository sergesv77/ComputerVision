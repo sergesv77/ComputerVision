{
 "cells": [
  {
   "cell_type": "markdown",
   "metadata": {},
   "source": [
    "# HOMEWORK 11\n",
    "\n",
    "In this homework you are going to improve the DNN for house price estimation we built during the lesson. The objective is to beat the performance (i.e. to get a closer estimation) of the last network we built in the lecture.\n",
    "\n",
    "The structure of this homework is as follows:\n",
    " * First, we are going to build the reference network (exactly the same network we implemented in the lecture).\n",
    " * You are going to run it a write down the price estimation error (Validation MAE).\n",
    " * Then you are going to make some modifications in order to make the network perform better.\n",
    " \n",
    "In the section **Tasks** you will find what modification you'll need to implement as well as some hints.\n",
    " \n",
    "At the end, as usual, there are some question waiting for you to answer :-)"
   ]
  },
  {
   "cell_type": "code",
   "execution_count": 1337,
   "metadata": {},
   "outputs": [],
   "source": [
    "import cv2\n",
    "import numpy as np\n",
    "import pandas as pd\n",
    "import os\n",
    "from sklearn.preprocessing import StandardScaler\n",
    "from sklearn.preprocessing import LabelEncoder\n",
    "from sklearn.model_selection import train_test_split\n",
    "from matplotlib import pyplot as plt\n",
    "plt.rcParams['figure.figsize'] = [15, 10]\n",
    "\n",
    "from tensorflow.keras import Model, metrics\n",
    "from tensorflow.keras.layers import Dense, Dropout, Input\n",
    "from tensorflow.keras.optimizers import Adam\n",
    "\n",
    "# Set the seeds\n",
    "from numpy.random import seed\n",
    "from tensorflow.random import set_seed\n",
    "seed_value = 1234578790\n",
    "seed(seed_value)\n",
    "set_seed(seed_value)"
   ]
  },
  {
   "cell_type": "markdown",
   "metadata": {},
   "source": [
    "### Data Preparation\n",
    "\n",
    "Let's load the data and prepare the training sets."
   ]
  },
  {
   "cell_type": "code",
   "execution_count": 1338,
   "metadata": {},
   "outputs": [],
   "source": [
    "data_path = os.getcwd() + '\\datasets\\kaggle\\house-prices-advanced-regression-techniques\\\\train.csv'\n",
    "# print(f'Reading data from \"{data_path}\"')\n",
    "dataset = pd.read_csv(data_path)\n",
    "\n",
    "features_numbers = ['SalePrice','OverallQual', 'GrLivArea', 'GarageCars', 'FullBath', 'YearBuilt', \n",
    "            'LotArea', 'OverallCond', 'BedroomAbvGr', '3SsnPorch', 'PoolArea', 'GarageArea', 'WoodDeckSF',\n",
    "            ]\n",
    "\n",
    "# values of these columns must be additionally processed text_label -> number\n",
    "features_labels = ['CentralAir', 'ExterCond', 'Exterior1st', 'BldgType', 'Neighborhood', 'Utilities', \n",
    "                   'KitchenQual', 'PoolQC', 'GarageType', 'YrSold', 'FireplaceQu', 'GarageFinish']\n",
    "\n",
    "data_numbers = dataset[features_numbers]\n",
    "\n",
    "data_all = data_numbers.copy()\n",
    "\n",
    "lb = LabelEncoder()\n",
    "\n",
    "for label in features_labels:\n",
    "    lb_result = lb.fit_transform(dataset[label])\n",
    "    data_all.loc[:, label] = lb_result.tolist()\n",
    "    \n",
    "# Filling nan with the mean of the column:\n",
    "data_all = data_all.fillna(data_all.mean())\n",
    "\n",
    "# Extract input values and normalize\n",
    "x = data_all[features_numbers[1:] + features_labels]\n",
    "\n",
    "# print(x[:5])\n",
    "\n",
    "scale = StandardScaler()\n",
    "x = scale.fit_transform(x)\n",
    "\n",
    "# print(x[:5])\n",
    "\n",
    "\n",
    "# Extract output values (prices) and normalize\n",
    "y = data_all[features[0]].values\n",
    "y = y/100000\n",
    "\n",
    "# Split into 75% for train and 25% for test\n",
    "x_train, x_test, y_train, y_test = train_test_split(x, y, test_size=0.1, random_state=seed_value)"
   ]
  },
  {
   "cell_type": "markdown",
   "metadata": {},
   "source": [
    "Let's use the same plotting helper we used in the lecture."
   ]
  },
  {
   "cell_type": "code",
   "execution_count": 1339,
   "metadata": {
    "scrolled": true
   },
   "outputs": [],
   "source": [
    "def plot_history(history):\n",
    "    h = history.history\n",
    "    epochs = range(len(h['loss']))\n",
    "\n",
    "    plt.subplot(121), plt.plot(epochs, h['loss'], '.-', epochs, h['val_loss'], '.-')\n",
    "    plt.grid(True), plt.xlabel('epochs'), plt.ylabel('loss')\n",
    "    plt.legend(['Train', 'Validation'])\n",
    "    plt.subplot(122), plt.plot(epochs, np.array(h['mean_absolute_error'])*1e5, '.-',\n",
    "                               epochs, np.array(h['val_mean_absolute_error'])*1e5, '.-')\n",
    "    plt.grid(True), plt.xlabel('epochs'), plt.ylabel('MAE')\n",
    "    plt.legend(['Train', 'Validation'])\n",
    "        \n",
    "    print('Train MAE     ', h['mean_absolute_error'][-1]*1e5)\n",
    "    print('Validation MAE', h['val_mean_absolute_error'][-1]*1e5)"
   ]
  },
  {
   "cell_type": "markdown",
   "metadata": {},
   "source": [
    "### Building the Network"
   ]
  },
  {
   "cell_type": "code",
   "execution_count": 1340,
   "metadata": {
    "scrolled": true
   },
   "outputs": [
    {
     "name": "stdout",
     "output_type": "stream",
     "text": [
      "Model: \"functional_519\"\n",
      "_________________________________________________________________\n",
      "Layer (type)                 Output Shape              Param #   \n",
      "=================================================================\n",
      "input_260 (InputLayer)       [(None, 24)]              0         \n",
      "_________________________________________________________________\n",
      "dense_798 (Dense)            (None, 256)               6400      \n",
      "_________________________________________________________________\n",
      "dense_799 (Dense)            (None, 128)               32896     \n",
      "_________________________________________________________________\n",
      "dense_800 (Dense)            (None, 32)                4128      \n",
      "_________________________________________________________________\n",
      "dense_801 (Dense)            (None, 1)                 33        \n",
      "=================================================================\n",
      "Total params: 43,457\n",
      "Trainable params: 43,457\n",
      "Non-trainable params: 0\n",
      "_________________________________________________________________\n"
     ]
    }
   ],
   "source": [
    "inputs = Input(shape=x.shape[1])\n",
    "\n",
    "outputs = Dense(256, activation='relu')(inputs)\n",
    "outputs = Dense(128, activation='relu')(outputs)\n",
    "outputs = Dense(32, activation='relu')(outputs)\n",
    "outputs = Dense(1, activation='linear')(outputs)\n",
    "model = Model(inputs, outputs)\n",
    "\n",
    "model.compile(optimizer = Adam(learning_rate=0.001), loss ='mean_squared_error', metrics =[metrics.mae])\n",
    "model.summary()"
   ]
  },
  {
   "cell_type": "markdown",
   "metadata": {},
   "source": [
    "### Training the Network"
   ]
  },
  {
   "cell_type": "code",
   "execution_count": 1341,
   "metadata": {
    "scrolled": false
   },
   "outputs": [
    {
     "name": "stdout",
     "output_type": "stream",
     "text": [
      "Train MAE      6140.580400824547\n",
      "Validation MAE 18587.31061220169\n"
     ]
    },
    {
     "data": {
      "image/png": "[encoded data removed]",
      "text/plain": [
       "<Figure size 1080x720 with 2 Axes>"
      ]
     },
     "metadata": {
      "needs_background": "light"
     },
     "output_type": "display_data"
    }
   ],
   "source": [
    "history = model.fit(x_train, y_train, validation_data=(x_test,y_test), epochs=120, batch_size=200, verbose=0)\n",
    "plot_history(history)"
   ]
  },
  {
   "cell_type": "markdown",
   "metadata": {},
   "source": [
    "### Tasks\n",
    "\n",
    "Improve the network so you obtain a better estimation error than the reference. You can try the following:\n",
    "* Add a new feature to your inputs. For instance, `LotArea` (lot size in square feet) seems like a good candidate :-)\n",
    "* Try increasing the number of neurons in the first layer. Currently, we have 5 neurons there, what happens if we increase it to 10?"
   ]
  },
  {
   "cell_type": "markdown",
   "metadata": {},
   "source": [
    "### Questions\n",
    "* What is the new price estimation error after your modifrications? Is it better than before?\n",
    "* Does adding more features help?\n",
    "* Does adding more neurons help?\n",
    "* What would you do to improv the network even further?"
   ]
  },
  {
   "cell_type": "markdown",
   "metadata": {},
   "source": [
    "### Answers\n",
    "* It is better. More neurons, typically, give better results. However, many other parameters affect prediction quality, so changing five neurons to 10 won't give much of the difference. The more neurons we have, the fewer epochs we need to train (from my observation), otherwise, the errors level raises\n",
    "* Depends on the feature, some of them improve results while some others - worsen them\n",
    "* In general - yes\n",
    "* I've changed many settings. See the code for the final results. I feel that, somehow, validation data are different from training data (probably by coincidence) because I'm getting good results for Training MAE and much worse outcomes for Validation MAE. By default, the amount of validation data is 25%. If I change it to 10% or even less, I can get better validation MAE with unchanged other parameters. I guess if we had around 100000 rows (much more than we have) in a database, we would get better general results\n"
   ]
  },
  {
   "cell_type": "code",
   "execution_count": null,
   "metadata": {},
   "outputs": [],
   "source": []
  }
 ],
 "metadata": {
  "kernelspec": {
   "display_name": "Python 3 (ipykernel)",
   "language": "python",
   "name": "python3"
  },
  "language_info": {
   "codemirror_mode": {
    "name": "ipython",
    "version": 3
   },
   "file_extension": ".py",
   "mimetype": "text/x-python",
   "name": "python",
   "nbconvert_exporter": "python",
   "pygments_lexer": "ipython3",
   "version": "3.8.12"
  }
 },
 "nbformat": 4,
 "nbformat_minor": 4
}
